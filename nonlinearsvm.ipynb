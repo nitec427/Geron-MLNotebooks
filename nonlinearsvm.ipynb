{
 "cells": [
  {
   "cell_type": "code",
   "execution_count": 2,
   "metadata": {},
   "outputs": [],
   "source": [
    "from sklearn.datasets import make_moons\n",
    "from sklearn.pipeline import Pipeline\n",
    "from sklearn.preprocessing import  PolynomialFeatures, StandardScaler\n",
    "from sklearn.svm import LinearSVC"
   ]
  },
  {
   "cell_type": "code",
   "execution_count": 3,
   "metadata": {},
   "outputs": [
    {
     "data": {
      "text/html": [
       "<style>#sk-container-id-1 {color: black;background-color: white;}#sk-container-id-1 pre{padding: 0;}#sk-container-id-1 div.sk-toggleable {background-color: white;}#sk-container-id-1 label.sk-toggleable__label {cursor: pointer;display: block;width: 100%;margin-bottom: 0;padding: 0.3em;box-sizing: border-box;text-align: center;}#sk-container-id-1 label.sk-toggleable__label-arrow:before {content: \"▸\";float: left;margin-right: 0.25em;color: #696969;}#sk-container-id-1 label.sk-toggleable__label-arrow:hover:before {color: black;}#sk-container-id-1 div.sk-estimator:hover label.sk-toggleable__label-arrow:before {color: black;}#sk-container-id-1 div.sk-toggleable__content {max-height: 0;max-width: 0;overflow: hidden;text-align: left;background-color: #f0f8ff;}#sk-container-id-1 div.sk-toggleable__content pre {margin: 0.2em;color: black;border-radius: 0.25em;background-color: #f0f8ff;}#sk-container-id-1 input.sk-toggleable__control:checked~div.sk-toggleable__content {max-height: 200px;max-width: 100%;overflow: auto;}#sk-container-id-1 input.sk-toggleable__control:checked~label.sk-toggleable__label-arrow:before {content: \"▾\";}#sk-container-id-1 div.sk-estimator input.sk-toggleable__control:checked~label.sk-toggleable__label {background-color: #d4ebff;}#sk-container-id-1 div.sk-label input.sk-toggleable__control:checked~label.sk-toggleable__label {background-color: #d4ebff;}#sk-container-id-1 input.sk-hidden--visually {border: 0;clip: rect(1px 1px 1px 1px);clip: rect(1px, 1px, 1px, 1px);height: 1px;margin: -1px;overflow: hidden;padding: 0;position: absolute;width: 1px;}#sk-container-id-1 div.sk-estimator {font-family: monospace;background-color: #f0f8ff;border: 1px dotted black;border-radius: 0.25em;box-sizing: border-box;margin-bottom: 0.5em;}#sk-container-id-1 div.sk-estimator:hover {background-color: #d4ebff;}#sk-container-id-1 div.sk-parallel-item::after {content: \"\";width: 100%;border-bottom: 1px solid gray;flex-grow: 1;}#sk-container-id-1 div.sk-label:hover label.sk-toggleable__label {background-color: #d4ebff;}#sk-container-id-1 div.sk-serial::before {content: \"\";position: absolute;border-left: 1px solid gray;box-sizing: border-box;top: 0;bottom: 0;left: 50%;z-index: 0;}#sk-container-id-1 div.sk-serial {display: flex;flex-direction: column;align-items: center;background-color: white;padding-right: 0.2em;padding-left: 0.2em;position: relative;}#sk-container-id-1 div.sk-item {position: relative;z-index: 1;}#sk-container-id-1 div.sk-parallel {display: flex;align-items: stretch;justify-content: center;background-color: white;position: relative;}#sk-container-id-1 div.sk-item::before, #sk-container-id-1 div.sk-parallel-item::before {content: \"\";position: absolute;border-left: 1px solid gray;box-sizing: border-box;top: 0;bottom: 0;left: 50%;z-index: -1;}#sk-container-id-1 div.sk-parallel-item {display: flex;flex-direction: column;z-index: 1;position: relative;background-color: white;}#sk-container-id-1 div.sk-parallel-item:first-child::after {align-self: flex-end;width: 50%;}#sk-container-id-1 div.sk-parallel-item:last-child::after {align-self: flex-start;width: 50%;}#sk-container-id-1 div.sk-parallel-item:only-child::after {width: 0;}#sk-container-id-1 div.sk-dashed-wrapped {border: 1px dashed gray;margin: 0 0.4em 0.5em 0.4em;box-sizing: border-box;padding-bottom: 0.4em;background-color: white;}#sk-container-id-1 div.sk-label label {font-family: monospace;font-weight: bold;display: inline-block;line-height: 1.2em;}#sk-container-id-1 div.sk-label-container {text-align: center;}#sk-container-id-1 div.sk-container {/* jupyter's `normalize.less` sets `[hidden] { display: none; }` but bootstrap.min.css set `[hidden] { display: none !important; }` so we also need the `!important` here to be able to override the default hidden behavior on the sphinx rendered scikit-learn.org. See: https://github.com/scikit-learn/scikit-learn/issues/21755 */display: inline-block !important;position: relative;}#sk-container-id-1 div.sk-text-repr-fallback {display: none;}</style><div id=\"sk-container-id-1\" class=\"sk-top-container\"><div class=\"sk-text-repr-fallback\"><pre>Pipeline(steps=[(&#x27;poly_features&#x27;, PolynomialFeatures(degree=3)),\n",
       "                (&#x27;scaler&#x27;, StandardScaler()),\n",
       "                (&#x27;svm_clf&#x27;, LinearSVC(C=10, loss=&#x27;hinge&#x27;))])</pre><b>In a Jupyter environment, please rerun this cell to show the HTML representation or trust the notebook. <br />On GitHub, the HTML representation is unable to render, please try loading this page with nbviewer.org.</b></div><div class=\"sk-container\" hidden><div class=\"sk-item sk-dashed-wrapped\"><div class=\"sk-label-container\"><div class=\"sk-label sk-toggleable\"><input class=\"sk-toggleable__control sk-hidden--visually\" id=\"sk-estimator-id-1\" type=\"checkbox\" ><label for=\"sk-estimator-id-1\" class=\"sk-toggleable__label sk-toggleable__label-arrow\">Pipeline</label><div class=\"sk-toggleable__content\"><pre>Pipeline(steps=[(&#x27;poly_features&#x27;, PolynomialFeatures(degree=3)),\n",
       "                (&#x27;scaler&#x27;, StandardScaler()),\n",
       "                (&#x27;svm_clf&#x27;, LinearSVC(C=10, loss=&#x27;hinge&#x27;))])</pre></div></div></div><div class=\"sk-serial\"><div class=\"sk-item\"><div class=\"sk-estimator sk-toggleable\"><input class=\"sk-toggleable__control sk-hidden--visually\" id=\"sk-estimator-id-2\" type=\"checkbox\" ><label for=\"sk-estimator-id-2\" class=\"sk-toggleable__label sk-toggleable__label-arrow\">PolynomialFeatures</label><div class=\"sk-toggleable__content\"><pre>PolynomialFeatures(degree=3)</pre></div></div></div><div class=\"sk-item\"><div class=\"sk-estimator sk-toggleable\"><input class=\"sk-toggleable__control sk-hidden--visually\" id=\"sk-estimator-id-3\" type=\"checkbox\" ><label for=\"sk-estimator-id-3\" class=\"sk-toggleable__label sk-toggleable__label-arrow\">StandardScaler</label><div class=\"sk-toggleable__content\"><pre>StandardScaler()</pre></div></div></div><div class=\"sk-item\"><div class=\"sk-estimator sk-toggleable\"><input class=\"sk-toggleable__control sk-hidden--visually\" id=\"sk-estimator-id-4\" type=\"checkbox\" ><label for=\"sk-estimator-id-4\" class=\"sk-toggleable__label sk-toggleable__label-arrow\">LinearSVC</label><div class=\"sk-toggleable__content\"><pre>LinearSVC(C=10, loss=&#x27;hinge&#x27;)</pre></div></div></div></div></div></div></div>"
      ],
      "text/plain": [
       "Pipeline(steps=[('poly_features', PolynomialFeatures(degree=3)),\n",
       "                ('scaler', StandardScaler()),\n",
       "                ('svm_clf', LinearSVC(C=10, loss='hinge'))])"
      ]
     },
     "execution_count": 3,
     "metadata": {},
     "output_type": "execute_result"
    }
   ],
   "source": [
    "X, y = make_moons(n_samples=100, noise=0.15)\n",
    "polynomial_svm_clf = Pipeline([\n",
    "(\"poly_features\", PolynomialFeatures(degree=3)),\n",
    "(\"scaler\", StandardScaler()),\n",
    "(\"svm_clf\", LinearSVC(C=10, loss=\"hinge\"))\n",
    "])\n",
    "polynomial_svm_clf.fit(X, y)"
   ]
  },
  {
   "cell_type": "code",
   "execution_count": 6,
   "metadata": {},
   "outputs": [
    {
     "data": {
      "text/plain": [
       "(array([[ 0.79850963,  0.65685837],\n",
       "        [ 1.10497326,  0.58756603],\n",
       "        [ 0.057887  ,  1.01772847],\n",
       "        [ 0.19242662,  0.03912404],\n",
       "        [ 1.93481494,  0.04992394],\n",
       "        [ 1.34527699, -0.48202317],\n",
       "        [-0.02813252,  0.49920832],\n",
       "        [ 1.86565661,  0.07908314],\n",
       "        [-0.30876215,  0.52642101],\n",
       "        [-0.39140906,  0.88112191],\n",
       "        [ 1.00002608, -0.0786331 ],\n",
       "        [-0.67230723,  0.54295736],\n",
       "        [ 1.64052736, -0.22407104],\n",
       "        [ 1.73979642, -0.4335303 ],\n",
       "        [ 2.02869218,  0.63052614],\n",
       "        [ 0.59409193,  0.90636715],\n",
       "        [ 1.98925089, -0.14562922],\n",
       "        [ 0.72822293, -0.59772174],\n",
       "        [-0.38614588,  1.02430995],\n",
       "        [ 0.46602927,  0.90722504],\n",
       "        [ 1.52005465, -0.37462004],\n",
       "        [ 0.96836122, -0.47819085],\n",
       "        [ 0.55177826, -0.4062924 ],\n",
       "        [-0.73641403,  0.47070935],\n",
       "        [-0.00529817,  0.78825832],\n",
       "        [ 0.1450862 ,  0.2880728 ],\n",
       "        [ 0.86497994,  0.67540637],\n",
       "        [-0.89256037,  0.02958038],\n",
       "        [ 0.46284628, -0.3514683 ],\n",
       "        [ 2.15957991,  0.6501135 ],\n",
       "        [ 2.13371979,  0.35010125],\n",
       "        [ 0.97585726, -0.0104689 ],\n",
       "        [ 0.31814305, -0.05019349],\n",
       "        [ 0.47662967,  0.62323981],\n",
       "        [-0.2030644 ,  1.12505914],\n",
       "        [ 1.38145763, -0.31025659],\n",
       "        [ 0.90855824, -0.40461566],\n",
       "        [-0.85680194,  0.67609402],\n",
       "        [ 1.0449798 , -0.54684554],\n",
       "        [ 1.07867951, -0.57164344],\n",
       "        [-0.25163897,  0.95007758],\n",
       "        [ 1.01232941,  0.50325103],\n",
       "        [-0.98689645,  0.13051432],\n",
       "        [ 0.10602281,  1.39897039],\n",
       "        [ 0.14649646,  0.74579859],\n",
       "        [-0.00670997,  1.04164228],\n",
       "        [-0.43412832,  0.96880512],\n",
       "        [-0.5240321 ,  0.40596178],\n",
       "        [-0.99687534,  0.29269856],\n",
       "        [ 0.98078071,  0.20474194],\n",
       "        [ 0.59886939, -0.29635601],\n",
       "        [ 0.14556933,  0.21111841],\n",
       "        [ 0.02989035,  0.04959985],\n",
       "        [-0.0924278 ,  1.14093702],\n",
       "        [-0.4618274 ,  1.09201165],\n",
       "        [-1.11444494,  0.24006129],\n",
       "        [ 0.89778044, -0.6439959 ],\n",
       "        [ 1.30989961, -0.40284598],\n",
       "        [ 1.61125097, -0.50507554],\n",
       "        [ 1.61205703, -0.1380042 ],\n",
       "        [ 0.53235799, -0.67072197],\n",
       "        [-0.64473296,  0.40114006],\n",
       "        [ 0.24904958, -0.13946912],\n",
       "        [ 0.94440831, -0.29974411],\n",
       "        [ 0.97023616,  0.03006932],\n",
       "        [ 0.54395851,  0.86093222],\n",
       "        [ 0.23775998, -0.3662249 ],\n",
       "        [ 1.67352215, -0.4780286 ],\n",
       "        [ 0.87344254, -0.53218934],\n",
       "        [ 1.22585833, -0.67912901],\n",
       "        [ 0.57153091,  0.71006379],\n",
       "        [ 0.84781558,  0.53406782],\n",
       "        [ 1.27227736, -0.36705202],\n",
       "        [ 1.03985993,  0.32537172],\n",
       "        [ 0.65081349,  1.09420544],\n",
       "        [-0.71077243,  0.58100922],\n",
       "        [ 0.33281328,  0.07442345],\n",
       "        [ 0.61581644,  0.52409657],\n",
       "        [ 1.47997102, -0.36994283],\n",
       "        [ 0.1553899 ,  0.82662704],\n",
       "        [-0.19652816,  0.28238409],\n",
       "        [ 0.03865788, -0.04502988],\n",
       "        [ 0.04898616,  0.06737796],\n",
       "        [-0.00771633,  0.38444834],\n",
       "        [-0.22338418,  0.90139988],\n",
       "        [-1.38624199, -0.2759021 ],\n",
       "        [ 0.76337398,  0.49951341],\n",
       "        [ 0.85611577,  0.24648011],\n",
       "        [-0.69588267,  1.08595424],\n",
       "        [ 0.81839225,  0.66922528],\n",
       "        [ 0.03624642,  0.87487455],\n",
       "        [ 0.38754864, -0.54033244],\n",
       "        [ 1.27158329, -0.36356784],\n",
       "        [ 2.00069808,  0.17016165],\n",
       "        [ 1.82660896,  0.55015934],\n",
       "        [ 1.81125234,  0.05068558],\n",
       "        [-0.87342832,  0.39115848],\n",
       "        [ 1.79491212,  0.12855083],\n",
       "        [-0.52268446,  0.65564735],\n",
       "        [-1.00938573,  0.06664781]]),\n",
       " array([0, 0, 0, 1, 1, 1, 1, 1, 0, 0, 0, 0, 1, 1, 1, 0, 1, 1, 0, 0, 1, 1,\n",
       "        1, 0, 1, 1, 0, 0, 1, 1, 1, 0, 1, 0, 0, 1, 1, 0, 1, 1, 0, 0, 0, 0,\n",
       "        0, 0, 0, 0, 0, 0, 1, 1, 1, 0, 0, 0, 1, 1, 1, 1, 1, 0, 1, 1, 0, 0,\n",
       "        1, 1, 1, 1, 0, 0, 1, 0, 0, 0, 1, 0, 1, 0, 1, 1, 1, 1, 0, 0, 0, 0,\n",
       "        0, 0, 0, 1, 1, 1, 1, 1, 0, 1, 0, 0]),\n",
       " Pipeline(steps=[('poly_features', PolynomialFeatures(degree=3)),\n",
       "                 ('scaler', StandardScaler()),\n",
       "                 ('svm_clf', LinearSVC(C=10, loss='hinge'))]))"
      ]
     },
     "execution_count": 6,
     "metadata": {},
     "output_type": "execute_result"
    }
   ],
   "source": [
    "X, y, polynomial_svm_clf"
   ]
  },
  {
   "cell_type": "code",
   "execution_count": null,
   "metadata": {},
   "outputs": [],
   "source": []
  }
 ],
 "metadata": {
  "kernelspec": {
   "display_name": "Python 3.9.12 ('pytorch')",
   "language": "python",
   "name": "python3"
  },
  "language_info": {
   "codemirror_mode": {
    "name": "ipython",
    "version": 3
   },
   "file_extension": ".py",
   "mimetype": "text/x-python",
   "name": "python",
   "nbconvert_exporter": "python",
   "pygments_lexer": "ipython3",
   "version": "3.9.12"
  },
  "orig_nbformat": 4,
  "vscode": {
   "interpreter": {
    "hash": "a08c7681e2cf9246bf148626dc001d93579325f7b114c30638a2875dff5d1a08"
   }
  }
 },
 "nbformat": 4,
 "nbformat_minor": 2
}
